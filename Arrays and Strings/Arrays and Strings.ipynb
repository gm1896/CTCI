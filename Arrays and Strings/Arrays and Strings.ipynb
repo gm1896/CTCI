{
 "cells": [
  {
   "cell_type": "markdown",
   "metadata": {},
   "source": [
    "# 1.1 Check if a string has unique characters"
   ]
  },
  {
   "cell_type": "code",
   "execution_count": 6,
   "metadata": {},
   "outputs": [],
   "source": [
    "a = \"anup\""
   ]
  },
  {
   "cell_type": "code",
   "execution_count": 7,
   "metadata": {},
   "outputs": [
    {
     "name": "stdout",
     "output_type": "stream",
     "text": [
      "{'a'}\n",
      "{'a', 'n'}\n",
      "{'u', 'a', 'n'}\n",
      "{'u', 'a', 'n', 'p'}\n",
      "String has all unique characters\n"
     ]
    }
   ],
   "source": [
    "ns = set()\n",
    "flag = False\n",
    "for i in a:\n",
    "    if i not in ns:\n",
    "        ns.add(i)\n",
    "        print(ns)\n",
    "    else:\n",
    "        flag = True\n",
    "        print(\"Given string doesnt have unique characters\")\n",
    "        break\n",
    "if flag == True:\n",
    "    pass\n",
    "else:\n",
    "    print(\"String has all unique characters\")"
   ]
  },
  {
   "cell_type": "markdown",
   "metadata": {},
   "source": [
    "# Check if a string has unique characters Without using Set"
   ]
  },
  {
   "cell_type": "code",
   "execution_count": 42,
   "metadata": {},
   "outputs": [],
   "source": [
    "a = \"Pavan\"\n",
    "a = a.lower()"
   ]
  },
  {
   "cell_type": "code",
   "execution_count": 43,
   "metadata": {},
   "outputs": [],
   "source": [
    "a = sorted(a)"
   ]
  },
  {
   "cell_type": "code",
   "execution_count": 44,
   "metadata": {},
   "outputs": [
    {
     "data": {
      "text/plain": [
       "['a', 'a', 'n', 'p', 'v']"
      ]
     },
     "execution_count": 44,
     "metadata": {},
     "output_type": "execute_result"
    }
   ],
   "source": [
    "a"
   ]
  },
  {
   "cell_type": "code",
   "execution_count": 45,
   "metadata": {},
   "outputs": [
    {
     "name": "stdout",
     "output_type": "stream",
     "text": [
      "Character a is repeated. Therefor its not a unique String\n"
     ]
    }
   ],
   "source": [
    "flag = False\n",
    "for b in range(len(a)-1):\n",
    "    if a[b] == a[b+1]:\n",
    "        flag = True\n",
    "        print(\"Character\",a[b],\"is repeated. Therefor its not a unique String\")\n",
    "        break\n",
    "if flag == False:\n",
    "    print(\"String has all unique characters\")"
   ]
  },
  {
   "cell_type": "markdown",
   "metadata": {},
   "source": [
    "# 1.2 Check if one string is permutation of the other"
   ]
  },
  {
   "cell_type": "code",
   "execution_count": 46,
   "metadata": {},
   "outputs": [],
   "source": [
    "a = 'Anup' \n",
    "b = 'Puna'"
   ]
  },
  {
   "cell_type": "code",
   "execution_count": 47,
   "metadata": {},
   "outputs": [],
   "source": [
    "a = a.lower()\n",
    "b = b.lower()"
   ]
  },
  {
   "cell_type": "code",
   "execution_count": 48,
   "metadata": {},
   "outputs": [
    {
     "name": "stdout",
     "output_type": "stream",
     "text": [
      "True\n"
     ]
    }
   ],
   "source": [
    "all_freq1 = {} \n",
    "all_freq2 = {} \n",
    "  \n",
    "for i in a: \n",
    "    if i in all_freq1: \n",
    "        all_freq1[i] += 1\n",
    "    else: \n",
    "        all_freq1[i] = 1\n",
    "\n",
    "for i in b: \n",
    "    if i in all_freq2: \n",
    "        all_freq2[i] += 1\n",
    "    else: \n",
    "        all_freq2[i] = 1\n",
    "print(all_freq1 == all_freq2)"
   ]
  },
  {
   "cell_type": "markdown",
   "metadata": {},
   "source": [
    "# 1.3 Replace spaces with given string"
   ]
  },
  {
   "cell_type": "markdown",
   "metadata": {},
   "source": [
    "# In built method"
   ]
  },
  {
   "cell_type": "code",
   "execution_count": 49,
   "metadata": {},
   "outputs": [
    {
     "name": "stdout",
     "output_type": "stream",
     "text": [
      "Enter the StringGaurav Mahadik\n",
      "Gaurav%20Mahadik\n",
      "Do you want to do this for another String Yes/No? \n",
      "No\n"
     ]
    }
   ],
   "source": [
    "flag = True\n",
    "while(flag):\n",
    "    inputt = input(\"Enter the String\")\n",
    "    a = inputt\n",
    "    outputt = a.replace(\" \",\"%20\")\n",
    "    print(outputt)\n",
    "    b = input(\"Do you want to do this for another String Yes/No? \\n\")\n",
    "    b = b.lower()\n",
    "    if b == \"yes\":\n",
    "        flag = True\n",
    "    else:\n",
    "        flag = False"
   ]
  },
  {
   "cell_type": "markdown",
   "metadata": {},
   "source": [
    "# Custom Method"
   ]
  },
  {
   "cell_type": "code",
   "execution_count": 58,
   "metadata": {},
   "outputs": [],
   "source": [
    "def urlify_string(str):\n",
    "    return \"%20\".join(str.split())"
   ]
  },
  {
   "cell_type": "code",
   "execution_count": 59,
   "metadata": {},
   "outputs": [
    {
     "data": {
      "text/plain": [
       "'Mr%20John%20Smith'"
      ]
     },
     "execution_count": 59,
     "metadata": {},
     "output_type": "execute_result"
    }
   ],
   "source": [
    "urlify_string(\"Mr John Smith\")"
   ]
  },
  {
   "cell_type": "code",
   "execution_count": 60,
   "metadata": {},
   "outputs": [],
   "source": [
    "def urlifyString(str):\n",
    "    res = []\n",
    "    start = False\n",
    "    str = str.strip() # Removes white space from the beginning and end of the string\n",
    "    for char in reversed(str):\n",
    "        if(char == ' '):\n",
    "            res += '02%'\n",
    "        else: res += char\n",
    "    res = ''.join(res[::-1])\n",
    "    return res"
   ]
  },
  {
   "cell_type": "code",
   "execution_count": 61,
   "metadata": {},
   "outputs": [
    {
     "data": {
      "text/plain": [
       "'Mr%20John%20Smith'"
      ]
     },
     "execution_count": 61,
     "metadata": {},
     "output_type": "execute_result"
    }
   ],
   "source": [
    "urlifyString(\"Mr John Smith\")"
   ]
  },
  {
   "cell_type": "markdown",
   "metadata": {},
   "source": [
    "# 1.4 Palindrome Permutation"
   ]
  },
  {
   "cell_type": "code",
   "execution_count": 87,
   "metadata": {},
   "outputs": [
    {
     "name": "stdout",
     "output_type": "stream",
     "text": [
      "True\n"
     ]
    }
   ],
   "source": [
    "def f(s):\n",
    "    s = s.lower()\n",
    "    d = {}\n",
    "    for letter in s:\n",
    "        if letter not in d:\n",
    "            d[letter] = 1\n",
    "        else:\n",
    "            d[letter] +=1\n",
    "    numberOfOdd = 0\n",
    "    for letter, count in d.items():\n",
    "        if letter!= ' ' and count%2 == 1:\n",
    "            numberOfOdd+=1\n",
    "        if numberOfOdd > 1:\n",
    "            return False\n",
    "    return True\n",
    "def main():\n",
    "    s = \"anupopuna\"\n",
    "    print(f(s))\n",
    "\n",
    "if __name__ == '__main__':\n",
    "    main()"
   ]
  },
  {
   "cell_type": "markdown",
   "metadata": {},
   "source": [
    "# 1.5 One Away"
   ]
  },
  {
   "cell_type": "code",
   "execution_count": 96,
   "metadata": {},
   "outputs": [
    {
     "name": "stdout",
     "output_type": "stream",
     "text": [
      "False\n"
     ]
    }
   ],
   "source": [
    "def one_away(s1, s2):\n",
    "    #Checks lengths\n",
    "    if abs(len(s1)-len(s2)) > 1:\n",
    "        return False\n",
    "    #Smaller string in s1, longer one in s2\n",
    "    if len(s1) > len(s2):\n",
    "        s1, s2 = s2, s1\n",
    "\n",
    "    i1 = 0\n",
    "    i2 = 0\n",
    "    diff = False\n",
    "    while i1 < len(s1) and i2 < len(s2):\n",
    "        if s1[i1] != s2[i2]:\n",
    "            if diff:\n",
    "                return False\n",
    "            diff = True\n",
    "            if len(s1) == len(s2):\n",
    "                i1+=1\n",
    "        else:\n",
    "            i1+=1\n",
    "        i2+=1\n",
    "    return True\n",
    "\n",
    "def main():\n",
    "    s1 = \"bakebakebakebakebakebakebake\"\n",
    "    s2  = \"bakebakebakebakebakebakebhkf\"\n",
    "    print (one_away(s1, s2))\n",
    "\n",
    "if __name__ == '__main__':\n",
    "    main()"
   ]
  },
  {
   "cell_type": "markdown",
   "metadata": {},
   "source": [
    "# 1.6 String Compression"
   ]
  },
  {
   "cell_type": "code",
   "execution_count": 119,
   "metadata": {},
   "outputs": [],
   "source": [
    "def compress(s):\n",
    "     \n",
    "    r = \"\"\n",
    "    l = len(s)\n",
    "    \n",
    "    if l == 0:\n",
    "        return \"\"\n",
    "    \n",
    "    if l == 1:\n",
    "        return s+\"1\"\n",
    "\n",
    "    cnt  = 1\n",
    "    i = 1\n",
    "    \n",
    "    while i<l:\n",
    "        if s[i] == s[i - 1]:\n",
    "            cnt += 1\n",
    "        else:\n",
    "            r = r+s[i-1]+str(cnt)\n",
    "            cnt =1\n",
    "        i += 1\n",
    "        \n",
    "    r = r+s[i-1]+str(cnt)\n",
    "    \n",
    "    return r"
   ]
  },
  {
   "cell_type": "code",
   "execution_count": 120,
   "metadata": {},
   "outputs": [
    {
     "name": "stdout",
     "output_type": "stream",
     "text": [
      "a20\n",
      "a20b26\n"
     ]
    },
    {
     "data": {
      "text/plain": [
       "'a20b26f23'"
      ]
     },
     "execution_count": 120,
     "metadata": {},
     "output_type": "execute_result"
    }
   ],
   "source": [
    "compress(\"aaaaaaaaaaaaaaaaaaaabbbbbbbbbbbbbbbbbbbbbbbbbbfffffffffffffffffffffff\")"
   ]
  },
  {
   "cell_type": "markdown",
   "metadata": {},
   "source": [
    "# 1.7 Rotate Matrix"
   ]
  },
  {
   "cell_type": "code",
   "execution_count": 133,
   "metadata": {},
   "outputs": [
    {
     "name": "stdout",
     "output_type": "stream",
     "text": [
      "[1, 2, 3]\n",
      "[4, 5, 6]\n",
      "[7, 8, 9]\n",
      "[7, 4, 1]\n",
      "[8, 5, 2]\n",
      "[9, 6, 3]\n"
     ]
    }
   ],
   "source": [
    "def f(m):\n",
    "    n = len(m) -1\n",
    "    for i in range(len(m)//2):\n",
    "        for j in range(i,len(m[i])-1-i):\n",
    "            temp = m[j][n-i]\n",
    "            m[j][n-i] = m[i][j]\n",
    "            m[i][j] = m[n-j][i]\n",
    "            m[n-j][i] = m[n-i][n-j]\n",
    "            m[n-i][n-j] = temp\n",
    "    return m\n",
    "\n",
    "def main():\n",
    "    m = [ [1,2,3], [4,5,6], [7,8,9] ]\n",
    "    for line in m:\n",
    "        print(line)\n",
    "    m = f(m)\n",
    "    for line in m:\n",
    "        print(line)\n",
    "\n",
    "if __name__ == '__main__':\n",
    "    main()"
   ]
  },
  {
   "cell_type": "markdown",
   "metadata": {},
   "source": [
    "# 1.8 Zero Matrix"
   ]
  },
  {
   "cell_type": "code",
   "execution_count": 148,
   "metadata": {},
   "outputs": [
    {
     "name": "stdout",
     "output_type": "stream",
     "text": [
      "[1, 0, 3]\n",
      "[4, 5, 6]\n",
      "[7, 8, 0]\n",
      "[3, 9, 10]\n",
      "\n",
      "[0, 0, 0]\n",
      "[4, 0, 0]\n",
      "[0, 0, 0]\n",
      "[3, 0, 0]\n"
     ]
    }
   ],
   "source": [
    "def f(m):\n",
    "    rows = [i for i in range(len(m))]\n",
    "    columns = [i for i in range(len(m))]\n",
    "    n = len(m) -1\n",
    "    i = 0\n",
    "    while i < len(rows):\n",
    "        for j in range(len(columns)):\n",
    "            if m[rows[i]][columns[j]] == 0:\n",
    "                mark(m, rows[i], columns[j])\n",
    "                del rows[i]\n",
    "                del columns[j]\n",
    "                break\n",
    "        i+=1\n",
    "    return m\n",
    "\n",
    "def mark(m,i, j):\n",
    "    for n in range(len(m)):\n",
    "        m[n][j] = 0\n",
    "    for n in range(len(m[i])):\n",
    "        m[i][n] = 0\n",
    "\n",
    "def main():\n",
    "    m = [ [1,0,3], [4,5,6], [7,8,0], [3,9,10] ]\n",
    "    for line in m:\n",
    "        print(line)\n",
    "    print ('')\n",
    "    m = f(m)\n",
    "    for line in m:\n",
    "        print(line)\n",
    "\n",
    "if __name__ == '__main__':\n",
    "    main()"
   ]
  },
  {
   "cell_type": "markdown",
   "metadata": {},
   "source": [
    "# 1.9 String rotation"
   ]
  },
  {
   "cell_type": "code",
   "execution_count": 156,
   "metadata": {},
   "outputs": [
    {
     "name": "stdout",
     "output_type": "stream",
     "text": [
      "waterbottlewaterbottle\n",
      "erbottlewat\n",
      "True\n"
     ]
    }
   ],
   "source": [
    "def f(s1, s2):\n",
    "    if len(s2) != len(s1):\n",
    "        return False\n",
    "    s1 =  s1 * 2\n",
    "    print(s1)\n",
    "    if s2 in s1:\n",
    "        print(s2)\n",
    "        return True\n",
    "    else:\n",
    "        return False\n",
    "\n",
    "def main():\n",
    "    s1 = \"waterbottle\"\n",
    "    s2 = \"erbottlewat\"\n",
    "    print(f(s1,s2))\n",
    "if __name__ == '__main__':\n",
    "    main()"
   ]
  },
  {
   "cell_type": "code",
   "execution_count": null,
   "metadata": {},
   "outputs": [],
   "source": []
  }
 ],
 "metadata": {
  "kernelspec": {
   "display_name": "Python 3",
   "language": "python",
   "name": "python3"
  },
  "language_info": {
   "codemirror_mode": {
    "name": "ipython",
    "version": 3
   },
   "file_extension": ".py",
   "mimetype": "text/x-python",
   "name": "python",
   "nbconvert_exporter": "python",
   "pygments_lexer": "ipython3",
   "version": "3.6.5"
  }
 },
 "nbformat": 4,
 "nbformat_minor": 2
}
